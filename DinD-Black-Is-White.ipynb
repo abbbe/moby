{
 "cells": [
  {
   "cell_type": "markdown",
   "id": "ec00733f-99aa-4209-945f-8f358d271718",
   "metadata": {},
   "source": [
    "The purpose of this notebook is to document process of preparation DinD image (Docker in Docker) with black-is-white feature.\n",
    "\n",
    "We use source code from https://github.com/abbbe/moby repo, black_is_white branch.\n",
    "\n",
    "Need access to registry to push. See common/Registry.ipynb."
   ]
  },
  {
   "cell_type": "markdown",
   "id": "a336c59a-86d7-4550-ae3d-dd19cf631389",
   "metadata": {},
   "source": [
    "## Install docker"
   ]
  },
  {
   "cell_type": "markdown",
   "id": "5ebb04f6-fa3c-451b-92a4-7e14483840b1",
   "metadata": {},
   "source": [
    "https://docs.docker.com/engine/install/ubuntu/#install-using-the-repository\n",
    "\n",
    "*NB*: assume sudo does not ask for password"
   ]
  },
  {
   "cell_type": "code",
   "execution_count": null,
   "id": "6374ac7b-d36c-4cac-9e91-240054d7705b",
   "metadata": {},
   "outputs": [],
   "source": [
    "sudo apt-get update\n",
    "sudo apt-get install -y ca-certificates curl gnupg"
   ]
  },
  {
   "cell_type": "code",
   "execution_count": 5,
   "id": "1f038ecd-4a35-471b-963d-5e09d02d968e",
   "metadata": {},
   "outputs": [],
   "source": [
    "sudo install -m 0755 -d /etc/apt/keyrings\n",
    "curl -fsSL https://download.docker.com/linux/ubuntu/gpg | sudo gpg --dearmor -o /etc/apt/keyrings/docker.gpg\n",
    "sudo chmod a+r /etc/apt/keyrings/docker.gpg"
   ]
  },
  {
   "cell_type": "code",
   "execution_count": 6,
   "id": "0828aec3-d0b8-421c-988d-a2a4ed3bc537",
   "metadata": {},
   "outputs": [],
   "source": [
    "echo \\\n",
    "  \"deb [arch=\"$(dpkg --print-architecture)\" signed-by=/etc/apt/keyrings/docker.gpg] https://download.docker.com/linux/ubuntu \\\n",
    "  \"$(. /etc/os-release && echo \"$VERSION_CODENAME\")\" stable\" | \\\n",
    "  sudo tee /etc/apt/sources.list.d/docker.list > /dev/null"
   ]
  },
  {
   "cell_type": "code",
   "execution_count": null,
   "id": "d6fc8f26-b12e-4345-85b7-bc35f5b4be7d",
   "metadata": {},
   "outputs": [],
   "source": [
    "sudo apt-get update"
   ]
  },
  {
   "cell_type": "code",
   "execution_count": null,
   "id": "8d192508-e507-40d0-973b-a512553c0ef0",
   "metadata": {},
   "outputs": [],
   "source": [
    "sudo apt-get install -y docker-ce docker-ce-cli containerd.io docker-buildx-plugin docker-compose-plugin"
   ]
  },
  {
   "cell_type": "code",
   "execution_count": 10,
   "id": "18f22b85-99b6-4e80-84ad-86092c70ce64",
   "metadata": {},
   "outputs": [
    {
     "name": "stdout",
     "output_type": "stream",
     "text": [
      "Unable to find image 'hello-world:latest' locally\n",
      "latest: Pulling from library/hello-world\n",
      "\n",
      "\u001b[1BDigest: sha256:dcba6daec718f547568c562956fa47e1b03673dd010fe6ee58ca806767031d1c\n",
      "Status: Downloaded newer image for hello-world:latest\n",
      "\n",
      "Hello from Docker!\n",
      "This message shows that your installation appears to be working correctly.\n",
      "\n",
      "To generate this message, Docker took the following steps:\n",
      " 1. The Docker client contacted the Docker daemon.\n",
      " 2. The Docker daemon pulled the \"hello-world\" image from the Docker Hub.\n",
      "    (amd64)\n",
      " 3. The Docker daemon created a new container from that image which runs the\n",
      "    executable that produces the output you are currently reading.\n",
      " 4. The Docker daemon streamed that output to the Docker client, which sent it\n",
      "    to your terminal.\n",
      "\n",
      "To try something more ambitious, you can run an Ubuntu container with:\n",
      " $ docker run -it ubuntu bash\n",
      "\n",
      "Share images, automate workflows, and more with a free Docker ID:\n",
      " https://hub.docker.com/\n",
      "\n",
      "For more examples and ideas, visit:\n",
      " https://docs.docker.com/get-started/\n",
      "\n"
     ]
    }
   ],
   "source": [
    "sudo docker run hello-world"
   ]
  },
  {
   "cell_type": "code",
   "execution_count": 13,
   "id": "e1938472-6987-412e-8ba8-ca1da60b888b",
   "metadata": {},
   "outputs": [],
   "source": [
    "sudo usermod -aG docker $USER"
   ]
  },
  {
   "cell_type": "markdown",
   "id": "3706d72b-c59d-4b0f-9588-28de0fcbd6dc",
   "metadata": {},
   "source": [
    "*NB*: restart jupyter from a fresh shell session to apply new GID."
   ]
  },
  {
   "cell_type": "markdown",
   "id": "7c565f59-c6ed-4ab4-b3a2-8d11f6565572",
   "metadata": {},
   "source": [
    "## Log into docker registry"
   ]
  },
  {
   "cell_type": "markdown",
   "id": "7b3b665c-c65c-4b95-8b7b-9eb413d5cb21",
   "metadata": {},
   "source": [
    "Get your self a docker registry (see common/Registry.ipynb)."
   ]
  },
  {
   "cell_type": "code",
   "execution_count": null,
   "id": "5eac90c2-21e2-42d5-b66c-c23a59a58692",
   "metadata": {},
   "outputs": [],
   "source": [
    "REPOSITORY=grepo.azurecr.io"
   ]
  },
  {
   "cell_type": "markdown",
   "id": "9047d61f-d047-4055-81ca-6872ad3f078b",
   "metadata": {},
   "source": [
    "```\n",
    "# docker login $REPOSITORY --username *** --password ***\n",
    "```"
   ]
  },
  {
   "cell_type": "markdown",
   "id": "23d8ac5a-0dc6-4a3f-bbfd-7ecfad64fac8",
   "metadata": {
    "jp-MarkdownHeadingCollapsed": true
   },
   "source": [
    "## Build patched moby"
   ]
  },
  {
   "cell_type": "code",
   "execution_count": 27,
   "id": "7c84b09a-37ed-4196-9689-85f6867aa778",
   "metadata": {},
   "outputs": [],
   "source": [
    "WD=$(mktemp -d)"
   ]
  },
  {
   "cell_type": "markdown",
   "id": "14821541-f8e8-4ccc-a0bb-048b65aecff7",
   "metadata": {},
   "source": [
    "### fetch source code (master branch)"
   ]
  },
  {
   "cell_type": "code",
   "execution_count": null,
   "id": "7fc7a3c3-8f60-41d7-888b-6be02f497f1d",
   "metadata": {},
   "outputs": [],
   "source": [
    "git clone https://github.com/abbbe/moby.git\n",
    "cd moby"
   ]
  },
  {
   "cell_type": "markdown",
   "id": "a6379a23-4113-47bb-b9bd-cb7e89f3e4c2",
   "metadata": {},
   "source": [
    "### install dependencies"
   ]
  },
  {
   "cell_type": "code",
   "execution_count": null,
   "id": "3dd61477-845b-42af-90bd-0d43ceada236",
   "metadata": {},
   "outputs": [],
   "source": [
    "sudo snap install go --classic\n",
    "go get -d ./...\n",
    "go install github.com/LK4D4/vndr@latest"
   ]
  },
  {
   "cell_type": "markdown",
   "id": "fad401df-e3bc-43c7-8f0b-e6650bdb2c1f",
   "metadata": {},
   "source": [
    "*NB*: vndr executable should end up in $PATH for instance in ~/.local/bin"
   ]
  },
  {
   "cell_type": "markdown",
   "id": "622af6f7-1b39-425f-8226-6f17e902653e",
   "metadata": {},
   "source": [
    "### test unmodified code"
   ]
  },
  {
   "cell_type": "code",
   "execution_count": null,
   "id": "4c25b95b-6875-485f-b9b6-62ebec7f19d9",
   "metadata": {},
   "outputs": [],
   "source": [
    "make binary"
   ]
  },
  {
   "cell_type": "code",
   "execution_count": null,
   "id": "54e2e7dc-cccf-4a4d-9ccd-2998f1b3c0d6",
   "metadata": {},
   "outputs": [],
   "source": [
    "make test"
   ]
  },
  {
   "cell_type": "code",
   "execution_count": null,
   "id": "f3e34898-a649-439a-a9e8-4832abbfcb21",
   "metadata": {},
   "outputs": [],
   "source": [
    "TESTDIRS=./container/stream make test-unit"
   ]
  },
  {
   "cell_type": "markdown",
   "id": "6f7e9d80-4ac8-43f9-bfc1-3a47a9968b27",
   "metadata": {},
   "source": [
    "### patch and test"
   ]
  },
  {
   "cell_type": "code",
   "execution_count": null,
   "id": "80200c32-a5e6-4d35-9634-08d54a597c51",
   "metadata": {},
   "outputs": [],
   "source": [
    "git checkout black_is_white"
   ]
  },
  {
   "cell_type": "code",
   "execution_count": null,
   "id": "3c46b690-5b36-4026-a38a-3e53e6fa723a",
   "metadata": {},
   "outputs": [],
   "source": [
    "make clean\n",
    "make binary"
   ]
  },
  {
   "cell_type": "code",
   "execution_count": null,
   "id": "0e4ad274-1424-4828-a48f-9ed8ca1f60af",
   "metadata": {},
   "outputs": [],
   "source": [
    "TESTDIRS=./container/stream make test-unit"
   ]
  },
  {
   "cell_type": "code",
   "execution_count": null,
   "id": "3e3bec55-2c2a-4237-8d49-ec757da09045",
   "metadata": {},
   "outputs": [],
   "source": [
    "TEST_SKIP_INTEGRATION_CLI=1 make test-integration TESTFLAGS=\"-test.run TestExecBlackIsWhite\""
   ]
  },
  {
   "cell_type": "markdown",
   "id": "ecff0099-c131-4cd8-90e6-96ebb5a1315d",
   "metadata": {},
   "source": [
    "The last command takes a long time to run. Also, it runs tests from various directories and you do no necessarily see if your tests has failed.\n",
    "\n",
    "```\n",
    "...\n",
    "Running /go/src/github.com/docker/docker/integration/container (amd64.integration.container) flags=-test.v -test.timeout=5m -test.run TestExecBlackIsWhite \n",
    "INFO: Testing against a local daemon\n",
    "=== RUN   TestExecBlackIsWhite\n",
    "--- PASS: TestExecBlackIsWhite (0.65s)\n",
    "PASS\n",
    "\n",
    "DONE 1 tests in 0.677s\n",
    "...\n",
    "```\n",
    "\n",
    "To quickly run our test only:\n",
    "\n",
    "```\n",
    "$ make BIND_DIR=. shell\n",
    "# ./bundles/dynbinary-daemon/dockerd &\n",
    "# go test -v ./integration/container -run TestExecBlackIsWhite\n",
    "Loaded image: busybox:latest\n",
    "Loaded image: busybox:glibc\n",
    "Loaded image: debian:bullseye-slim\n",
    "Loaded image: hello-world:latest\n",
    "Loaded image: arm32v7/hello-world:latest\n",
    "INFO: Testing against a local daemon\n",
    "=== RUN   TestExecBlackIsWhite\n",
    "time=\"2023-08-27T18:21:36.197724895Z\" level=info msg=\"loading plugin \\\"io.containerd.internal.v1.shutdown\\\"...\" runtime=io.containerd.runc.v2 type=io.containerd.internal.v1\n",
    "time=\"2023-08-27T18:21:36.197773274Z\" level=info msg=\"loading plugin \\\"io.containerd.ttrpc.v1.pause\\\"...\" runtime=io.containerd.runc.v2 type=io.containerd.ttrpc.v1\n",
    "time=\"2023-08-27T18:21:36.197785044Z\" level=info msg=\"loading plugin \\\"io.containerd.event.v1.publisher\\\"...\" runtime=io.containerd.runc.v2 type=io.containerd.event.v1\n",
    "time=\"2023-08-27T18:21:36.197792335Z\" level=info msg=\"loading plugin \\\"io.containerd.ttrpc.v1.task\\\"...\" runtime=io.containerd.runc.v2 type=io.containerd.ttrpc.v1\n",
    "INFO[2023-08-27T18:21:36.498614412Z] shim disconnected                             id=a2852cf866651e8283a6808fe3058e4c1a35b2d26097a800877cbade99bebf5d namespace=moby\n",
    "WARN[2023-08-27T18:21:36.498685085Z] cleaning up after shim disconnected           id=a2852cf866651e8283a6808fe3058e4c1a35b2d26097a800877cbade99bebf5d namespace=moby\n",
    "INFO[2023-08-27T18:21:36.498752438Z] ignoring event                                container=a2852cf866651e8283a6808fe3058e4c1a35b2d26097a800877cbade99bebf5d module=libcontainerd namespace=moby topic=/tasks/delete type=\"*events.TaskDelete\"\n",
    "INFO[2023-08-27T18:21:36.498787843Z] cleaning up dead shim                         namespace=moby\n",
    "--- PASS: TestExecBlackIsWhite (0.69s)\n",
    "PASS\n",
    "ok  \tgithub.com/docker/docker/integration/container\t1.919s\n",
    "```"
   ]
  },
  {
   "cell_type": "markdown",
   "id": "32b0184f-f2b4-4bf7-84fb-a7ed89850370",
   "metadata": {},
   "source": [
    "### leave moby/"
   ]
  },
  {
   "cell_type": "code",
   "execution_count": 4,
   "id": "b87f4f7d-eac2-4070-9a47-d9e7ad0f381c",
   "metadata": {},
   "outputs": [],
   "source": [
    "cd .."
   ]
  },
  {
   "cell_type": "markdown",
   "id": "ac3c0324-92d1-484f-aef5-525ad3820b3e",
   "metadata": {},
   "source": [
    "## Build docker:dind image with black-is-white feature"
   ]
  },
  {
   "cell_type": "markdown",
   "id": "c0a92f1e-811e-46ab-8c0c-0149987b611a",
   "metadata": {},
   "source": [
    "Supposedly we have to do bild in moby/, but it did not work for me. So we create an empty directory and build there."
   ]
  },
  {
   "cell_type": "markdown",
   "id": "e41111a3-9cc9-4dff-be84-929224d17cc0",
   "metadata": {},
   "source": [
    "#### build"
   ]
  },
  {
   "cell_type": "code",
   "execution_count": 28,
   "id": "6baa7a5e-37d9-4e4d-8d53-8d253d172650",
   "metadata": {},
   "outputs": [],
   "source": [
    "cp moby/bundles/binary/dockerd $WD/\n",
    "\n",
    "cat << END > $WD/Dockerfile.dind-black-is-white\n",
    "# Use the official docker:dind as a base\n",
    "FROM docker:dind\n",
    "\n",
    "COPY ./dockerd /usr/local/bin/dockerd\n",
    "END"
   ]
  },
  {
   "cell_type": "code",
   "execution_count": 29,
   "id": "f7194b35-fab4-4b4c-b555-e9fba2db44d1",
   "metadata": {
    "scrolled": true
   },
   "outputs": [
    {
     "name": "stdout",
     "output_type": "stream",
     "text": [
      "\u001b[1A\u001b[1B\u001b[0G\u001b[?25l[+] Building 0.0s (0/1)                                          docker:default\n",
      "\u001b[?25h\u001b[1A\u001b[0G\u001b[?25l[+] Building 0.1s (3/3)                                          docker:default\n",
      "\u001b[34m => [internal] load .dockerignore                                          0.1s\n",
      "\u001b[0m\u001b[34m => => transferring context: 2B                                            0.0s\n",
      "\u001b[0m\u001b[34m => [internal] load build definition from Dockerfile.dind-black-is-white   0.1s\n",
      "\u001b[0m\u001b[34m => => transferring dockerfile: 154B                                       0.0s\n",
      "\u001b[0m\u001b[34m => [internal] load metadata for docker.io/library/docker:dind             0.0s\n",
      "\u001b[0m\u001b[?25h\u001b[1A\u001b[1A\u001b[1A\u001b[1A\u001b[1A\u001b[1A\u001b[0G\u001b[?25l[+] Building 0.2s (4/6)                                          docker:default\n",
      "\u001b[34m => [internal] load .dockerignore                                          0.1s\n",
      "\u001b[0m\u001b[34m => => transferring context: 2B                                            0.0s\n",
      "\u001b[0m\u001b[34m => [internal] load build definition from Dockerfile.dind-black-is-white   0.1s\n",
      "\u001b[0m\u001b[34m => => transferring dockerfile: 154B                                       0.0s\n",
      "\u001b[0m\u001b[34m => [internal] load metadata for docker.io/library/docker:dind             0.0s\n",
      "\u001b[0m => [internal] load build context                                          0.1s\n",
      " => => transferring context: 18.91MB                                       0.1s\n",
      "\u001b[34m => [1/2] FROM docker.io/library/docker:dind                               0.0s\n",
      "\u001b[0m\u001b[?25h\u001b[1A\u001b[1A\u001b[1A\u001b[1A\u001b[1A\u001b[1A\u001b[1A\u001b[1A\u001b[1A\u001b[0G\u001b[?25l[+] Building 0.3s (4/6)                                          docker:default\n",
      "\u001b[34m => [internal] load .dockerignore                                          0.1s\n",
      "\u001b[0m\u001b[34m => => transferring context: 2B                                            0.0s\n",
      "\u001b[0m\u001b[34m => [internal] load build definition from Dockerfile.dind-black-is-white   0.1s\n",
      "\u001b[0m\u001b[34m => => transferring dockerfile: 154B                                       0.0s\n",
      "\u001b[0m\u001b[34m => [internal] load metadata for docker.io/library/docker:dind             0.0s\n",
      "\u001b[0m => [internal] load build context                                          0.2s\n",
      " => => transferring context: 38.64MB                                       0.2s\n",
      "\u001b[34m => [1/2] FROM docker.io/library/docker:dind                               0.0s\n",
      "\u001b[0m\u001b[?25h\u001b[1A\u001b[1A\u001b[1A\u001b[1A\u001b[1A\u001b[1A\u001b[1A\u001b[1A\u001b[1A\u001b[0G\u001b[?25l[+] Building 0.4s (4/6)                                          docker:default\n",
      "\u001b[34m => [internal] load .dockerignore                                          0.1s\n",
      "\u001b[0m\u001b[34m => => transferring context: 2B                                            0.0s\n",
      "\u001b[0m\u001b[34m => [internal] load build definition from Dockerfile.dind-black-is-white   0.1s\n",
      "\u001b[0m\u001b[34m => => transferring dockerfile: 154B                                       0.0s\n",
      "\u001b[0m\u001b[34m => [internal] load metadata for docker.io/library/docker:dind             0.0s\n",
      "\u001b[0m => [internal] load build context                                          0.3s\n",
      " => => transferring context: 59.91MB                                       0.3s\n",
      "\u001b[34m => [1/2] FROM docker.io/library/docker:dind                               0.0s\n",
      "\u001b[0m\u001b[?25h\u001b[1A\u001b[1A\u001b[1A\u001b[1A\u001b[1A\u001b[1A\u001b[1A\u001b[1A\u001b[1A\u001b[0G\u001b[?25l[+] Building 0.6s (7/7) FINISHED                                 docker:default\n",
      "\u001b[34m => [internal] load .dockerignore                                          0.1s\n",
      "\u001b[0m\u001b[34m => => transferring context: 2B                                            0.0s\n",
      "\u001b[0m\u001b[34m => [internal] load build definition from Dockerfile.dind-black-is-white   0.1s\n",
      "\u001b[0m\u001b[34m => => transferring dockerfile: 154B                                       0.0s\n",
      "\u001b[0m\u001b[34m => [internal] load metadata for docker.io/library/docker:dind             0.0s\n",
      "\u001b[0m\u001b[34m => [internal] load build context                                          0.4s\n",
      "\u001b[0m\u001b[34m => => transferring context: 66.51MB                                       0.3s\n",
      "\u001b[0m\u001b[34m => [1/2] FROM docker.io/library/docker:dind                               0.0s\n",
      "\u001b[0m\u001b[34m => CACHED [2/2] COPY ./dockerd /usr/local/bin/dockerd                     0.0s\n",
      "\u001b[0m\u001b[34m => exporting to image                                                     0.0s\n",
      "\u001b[0m\u001b[34m => => exporting layers                                                    0.0s\n",
      "\u001b[0m\u001b[34m => => writing image sha256:155d3942e05d0e591e4cc57259593411039c413fd2032  0.0s\n",
      "\u001b[0m\u001b[34m => => naming to docker.io/library/dind-black-is-white:latest              0.0s\n",
      "\u001b[0m\u001b[?25h\n"
     ]
    }
   ],
   "source": [
    "docker build -t dind-black-is-white:latest -f $WD/Dockerfile.dind-black-is-white $WD"
   ]
  },
  {
   "cell_type": "code",
   "execution_count": null,
   "id": "c4bc07f3-506e-4746-9632-1d86065d028d",
   "metadata": {},
   "outputs": [],
   "source": []
  },
  {
   "cell_type": "code",
   "execution_count": 30,
   "id": "81c9cdf4-6a20-4a09-8558-b87f1ab7af53",
   "metadata": {},
   "outputs": [
    {
     "name": "stdout",
     "output_type": "stream",
     "text": [
      "Error response from daemon: Cannot kill container: dind-black-is-white: No such container: dind-black-is-white\n",
      "8e5df987057809dda786e101eae21f0368a71e6a4ee8d9b76be3f5661661699f\n"
     ]
    }
   ],
   "source": [
    "docker kill dind-black-is-white\n",
    "docker run --rm --name dind-black-is-white -d --privileged -it dind-black-is-white:latest"
   ]
  },
  {
   "cell_type": "code",
   "execution_count": 31,
   "id": "a8538c83-1ad3-4f2c-9339-b0553587d165",
   "metadata": {},
   "outputs": [
    {
     "name": "stdout",
     "output_type": "stream",
     "text": [
      "Docker version 24.0.5, build ced0996\n"
     ]
    }
   ],
   "source": [
    "docker exec -it dind-black-is-white \\\n",
    "    docker --version"
   ]
  },
  {
   "cell_type": "code",
   "execution_count": 33,
   "id": "f9cfd979-33eb-441a-b061-d7f20c5bec0e",
   "metadata": {},
   "outputs": [
    {
     "name": "stdout",
     "output_type": "stream",
     "text": [
      "Unable to find image 'busybox:latest' locally\n",
      "latest: Pulling from library/busybox\n",
      "\n",
      "\u001b[1BDigest: sha256:3fbc632167424a6d997e74f52b878d7cc478225cffac6bc977eedfe51c7f4e79\n",
      "Status: Downloaded newer image for busybox:latest\n",
      "{white}\n"
     ]
    }
   ],
   "source": [
    "docker exec -it dind-black-is-white \\\n",
    "    docker run busybox echo \"{black}\""
   ]
  },
  {
   "cell_type": "markdown",
   "id": "d078da05-bfea-4f9c-b5b9-d879db854a09",
   "metadata": {},
   "source": [
    "Here we have dind-black-is-white image with black-is-white feature."
   ]
  },
  {
   "cell_type": "markdown",
   "id": "81e52752-5009-4fce-854f-7e8ad859b21a",
   "metadata": {},
   "source": [
    "### push"
   ]
  },
  {
   "cell_type": "code",
   "execution_count": 37,
   "id": "e4a24417-1780-4c71-ac1f-3ad84fe4627f",
   "metadata": {},
   "outputs": [],
   "source": [
    "docker tag dind-black-is-white $REPOSITORY/dind-black-is-white:latest"
   ]
  },
  {
   "cell_type": "code",
   "execution_count": 39,
   "id": "f3441b5c-69a2-4fd4-9b03-6bddaf643eda",
   "metadata": {},
   "outputs": [
    {
     "name": "stdout",
     "output_type": "stream",
     "text": [
      "The push refers to repository [grepo.azurecr.io/dind-black-is-white]\n",
      "\n",
      "\u001b[1B0d0c0068: Preparing \n",
      "\u001b[1Ba8470c6e: Preparing \n",
      "\u001b[1B79695dfb: Preparing \n",
      "\u001b[1B5c9a229a: Preparing \n",
      "\u001b[1Ba81f3d2c: Preparing \n",
      "\u001b[1B5f19aeb6: Preparing \n",
      "\u001b[1B742599ab: Preparing \n",
      "\u001b[1B443bfbbf: Preparing \n",
      "\u001b[1B2878f7a3: Preparing \n",
      "\u001b[1Bf3153c61: Preparing \n",
      "\u001b[1Bb52abefd: Preparing \n",
      "\u001b[1B8ef27873: Preparing \n",
      "\u001b[1Bbf18a086: Preparing \n",
      "\u001b[1B6dc47777: Preparing \n",
      "\u001b[13Blatest: digest: sha256:25d3847dd853bda50eddd16f49749eb506cfd97fdd890e318003af8c09434e74 size: 3463\n"
     ]
    }
   ],
   "source": [
    "docker push $REPOSITORY/dind-black-is-white:latest"
   ]
  },
  {
   "cell_type": "markdown",
   "id": "1815e721-235e-4f21-a236-ee47df89e74f",
   "metadata": {},
   "source": [
    "### P"
   ]
  },
  {
   "cell_type": "code",
   "execution_count": 42,
   "id": "688af406-21b3-43c4-8de8-5e686c192cd2",
   "metadata": {},
   "outputs": [],
   "source": [
    "cd moby"
   ]
  },
  {
   "cell_type": "code",
   "execution_count": 43,
   "id": "2a5eb3bb-de42-4242-b988-a8d993203426",
   "metadata": {},
   "outputs": [
    {
     "name": "stdout",
     "output_type": "stream",
     "text": [
      "On branch black_is_white\n",
      "Your branch is up to date with 'origin/black_is_white'.\n",
      "\n",
      "Changes not staged for commit:\n",
      "  (use \"git add <file>...\" to update what will be committed)\n",
      "  (use \"git restore <file>...\" to discard changes in working directory)\n",
      "\t\u001b[31mmodified:   DinD-Black-Is-White.ipynb\u001b[m\n",
      "\n",
      "no changes added to commit (use \"git add\" and/or \"git commit -a\")\n"
     ]
    }
   ],
   "source": [
    "git status"
   ]
  },
  {
   "cell_type": "code",
   "execution_count": null,
   "id": "39c796a6-ce05-4269-9d0e-e27bff466ec8",
   "metadata": {},
   "outputs": [],
   "source": []
  }
 ],
 "metadata": {
  "kernelspec": {
   "display_name": "Bash",
   "language": "bash",
   "name": "bash"
  },
  "language_info": {
   "codemirror_mode": "shell",
   "file_extension": ".sh",
   "mimetype": "text/x-sh",
   "name": "bash"
  }
 },
 "nbformat": 4,
 "nbformat_minor": 5
}
