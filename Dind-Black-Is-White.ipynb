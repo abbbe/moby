{
 "cells": [
  {
   "cell_type": "markdown",
   "id": "ec00733f-99aa-4209-945f-8f358d271718",
   "metadata": {},
   "source": [
    "The purpose of this notebook is to document process of preparation dind-black-is-white docker image.\n",
    "\n",
    "We use source code from https://github.com/abbbe/moby repo, black_is_white branch."
   ]
  },
  {
   "cell_type": "markdown",
   "id": "a336c59a-86d7-4550-ae3d-dd19cf631389",
   "metadata": {
    "jp-MarkdownHeadingCollapsed": true
   },
   "source": [
    "## Install docker"
   ]
  },
  {
   "cell_type": "markdown",
   "id": "5ebb04f6-fa3c-451b-92a4-7e14483840b1",
   "metadata": {},
   "source": [
    "https://docs.docker.com/engine/install/ubuntu/#install-using-the-repository\n",
    "\n",
    "*NB*: assume sudo does not ask for password"
   ]
  },
  {
   "cell_type": "code",
   "execution_count": 4,
   "id": "6374ac7b-d36c-4cac-9e91-240054d7705b",
   "metadata": {},
   "outputs": [
    {
     "name": "stdout",
     "output_type": "stream",
     "text": [
      "Hit:1 http://be.archive.ubuntu.com/ubuntu jammy InRelease\n",
      "Hit:2 http://be.archive.ubuntu.com/ubuntu jammy-updates InRelease\n",
      "Hit:3 http://be.archive.ubuntu.com/ubuntu jammy-backports InRelease\n",
      "Hit:4 http://security.ubuntu.com/ubuntu jammy-security InRelease\n",
      "                        Reading package lists... 0%Reading package lists... 0%Reading package lists... 0%Reading package lists... 3%Reading package lists... 3%Reading package lists... 5%Reading package lists... 5%Reading package lists... 7%Reading package lists... 7%Reading package lists... 7%Reading package lists... 7%Reading package lists... 7%Reading package lists... 7%Reading package lists... 8%Reading package lists... 8%Reading package lists... 40%Reading package lists... 40%Reading package lists... 56%Reading package lists... 56%Reading package lists... 71%Reading package lists... 71%Reading package lists... 72%Reading package lists... 72%Reading package lists... 72%Reading package lists... 72%Reading package lists... 72%Reading package lists... 72%Reading package lists... 75%Reading package lists... 75%Reading package lists... 76%Reading package lists... 76%Reading package lists... 77%Reading package lists... 77%Reading package lists... 79%Reading package lists... 79%Reading package lists... 79%Reading package lists... 79%Reading package lists... 80%Reading package lists... 80%Reading package lists... 83%Reading package lists... 83%Reading package lists... 85%Reading package lists... 85%Reading package lists... 86%Reading package lists... 86%Reading package lists... 86%Reading package lists... 86%Reading package lists... 86%Reading package lists... 86%Reading package lists... 86%Reading package lists... 86%Reading package lists... 86%Reading package lists... 86%Reading package lists... 86%Reading package lists... 86%Reading package lists... 87%Reading package lists... 87%Reading package lists... 87%Reading package lists... 87%Reading package lists... 87%Reading package lists... 87%Reading package lists... 87%Reading package lists... 87%Reading package lists... 87%Reading package lists... 88%Reading package lists... 88%Reading package lists... 89%Reading package lists... 89%Reading package lists... 90%Reading package lists... 90%Reading package lists... 92%Reading package lists... 92%Reading package lists... 93%Reading package lists... 93%Reading package lists... 94%Reading package lists... 94%Reading package lists... 96%Reading package lists... 96%Reading package lists... 98%Reading package lists... 98%Reading package lists... 98%Reading package lists... 98%Reading package lists... 99%Reading package lists... 99%Reading package lists... 99%Reading package lists... 99%Reading package lists... 99%Reading package lists... 99%Reading package lists... Done\n",
      "Reading package lists... 0%Reading package lists... 100%Reading package lists... Done\n",
      "Building dependency tree... 0%Building dependency tree... 0%Building dependency tree... 50%Building dependency tree... 50%Building dependency tree... Done\n",
      "Reading state information... 0% Reading state information... 0%Reading state information... Done\n",
      "ca-certificates is already the newest version (20230311ubuntu0.22.04.1).\n",
      "ca-certificates set to manually installed.\n",
      "gnupg is already the newest version (2.2.27-3ubuntu2.1).\n",
      "gnupg set to manually installed.\n",
      "The following NEW packages will be installed:\n",
      "  curl\n",
      "0 upgraded, 1 newly installed, 0 to remove and 4 not upgraded.\n",
      "Need to get 194 kB of archives.\n",
      "After this operation, 454 kB of additional disk space will be used.\n",
      "Get:1 http://be.archive.ubuntu.com/ubuntu jammy-updates/main amd64 curl amd64 7.81.0-1ubuntu1.13 [194 kB]\n",
      "Fetched 194 kB in 1s (190 kB/s)\n",
      "Selecting previously unselected package curl.\n",
      "(Reading database ... 158354 files and directories currently installed.)\n",
      "Preparing to unpack .../curl_7.81.0-1ubuntu1.13_amd64.deb ...\n",
      "Unpacking curl (7.81.0-1ubuntu1.13) ...\n",
      "Setting up curl (7.81.0-1ubuntu1.13) ...\n",
      "Processing triggers for man-db (2.10.2-1) ...\n"
     ]
    }
   ],
   "source": [
    "sudo apt-get update\n",
    "sudo apt-get install -y ca-certificates curl gnupg"
   ]
  },
  {
   "cell_type": "code",
   "execution_count": 5,
   "id": "1f038ecd-4a35-471b-963d-5e09d02d968e",
   "metadata": {},
   "outputs": [],
   "source": [
    "sudo install -m 0755 -d /etc/apt/keyrings\n",
    "curl -fsSL https://download.docker.com/linux/ubuntu/gpg | sudo gpg --dearmor -o /etc/apt/keyrings/docker.gpg\n",
    "sudo chmod a+r /etc/apt/keyrings/docker.gpg"
   ]
  },
  {
   "cell_type": "code",
   "execution_count": 6,
   "id": "0828aec3-d0b8-421c-988d-a2a4ed3bc537",
   "metadata": {},
   "outputs": [],
   "source": [
    "echo \\\n",
    "  \"deb [arch=\"$(dpkg --print-architecture)\" signed-by=/etc/apt/keyrings/docker.gpg] https://download.docker.com/linux/ubuntu \\\n",
    "  \"$(. /etc/os-release && echo \"$VERSION_CODENAME\")\" stable\" | \\\n",
    "  sudo tee /etc/apt/sources.list.d/docker.list > /dev/null"
   ]
  },
  {
   "cell_type": "code",
   "execution_count": 7,
   "id": "d6fc8f26-b12e-4345-85b7-bc35f5b4be7d",
   "metadata": {},
   "outputs": [
    {
     "name": "stdout",
     "output_type": "stream",
     "text": [
      "Get:1 https://download.docker.com/linux/ubuntu jammy InRelease [48,9 kB]\n",
      "Get:2 https://download.docker.com/linux/ubuntu jammy/stable amd64 Packages [21,4 kB]\n",
      "Hit:3 http://be.archive.ubuntu.com/ubuntu jammy InRelease                      \n",
      "Hit:4 http://security.ubuntu.com/ubuntu jammy-security InRelease               \n",
      "Hit:5 http://be.archive.ubuntu.com/ubuntu jammy-updates InRelease\n",
      "Hit:6 http://be.archive.ubuntu.com/ubuntu jammy-backports InRelease\n",
      "Fetched 70,3 kB in 1s (109 kB/s)\n",
      "Reading package lists... 0%Reading package lists... 0%Reading package lists... 0%Reading package lists... 3%Reading package lists... 3%Reading package lists... 5%Reading package lists... 5%Reading package lists... 7%Reading package lists... 7%Reading package lists... 7%Reading package lists... 7%Reading package lists... 7%Reading package lists... 7%Reading package lists... 8%Reading package lists... 8%Reading package lists... 39%Reading package lists... 39%Reading package lists... 56%Reading package lists... 56%Reading package lists... 71%Reading package lists... 71%Reading package lists... 72%Reading package lists... 72%Reading package lists... 72%Reading package lists... 72%Reading package lists... 72%Reading package lists... 72%Reading package lists... 74%Reading package lists... 74%Reading package lists... 76%Reading package lists... 76%Reading package lists... 77%Reading package lists... 77%Reading package lists... 79%Reading package lists... 79%Reading package lists... 79%Reading package lists... 79%Reading package lists... 80%Reading package lists... 80%Reading package lists... 83%Reading package lists... 83%Reading package lists... 85%Reading package lists... 85%Reading package lists... 86%Reading package lists... 86%Reading package lists... 86%Reading package lists... 86%Reading package lists... 86%Reading package lists... 86%Reading package lists... 86%Reading package lists... 86%Reading package lists... 86%Reading package lists... 86%Reading package lists... 86%Reading package lists... 86%Reading package lists... 86%Reading package lists... 86%Reading package lists... 87%Reading package lists... 87%Reading package lists... 87%Reading package lists... 87%Reading package lists... 87%Reading package lists... 87%Reading package lists... 88%Reading package lists... 88%Reading package lists... 88%Reading package lists... 89%Reading package lists... 89%Reading package lists... 90%Reading package lists... 90%Reading package lists... 92%Reading package lists... 92%Reading package lists... 92%Reading package lists... 92%Reading package lists... 93%Reading package lists... 93%Reading package lists... 96%Reading package lists... 96%Reading package lists... 98%Reading package lists... 98%Reading package lists... 98%Reading package lists... 98%Reading package lists... 98%Reading package lists... 98%Reading package lists... 98%Reading package lists... 98%Reading package lists... 99%Reading package lists... 99%Reading package lists... 99%Reading package lists... 99%Reading package lists... Done\n"
     ]
    }
   ],
   "source": [
    "sudo apt-get update"
   ]
  },
  {
   "cell_type": "code",
   "execution_count": 9,
   "id": "8d192508-e507-40d0-973b-a512553c0ef0",
   "metadata": {},
   "outputs": [
    {
     "name": "stdout",
     "output_type": "stream",
     "text": [
      "Reading package lists... 0%Reading package lists... 100%Reading package lists... Done\n",
      "Building dependency tree... 0%Building dependency tree... 0%Building dependency tree... 50%Building dependency tree... 50%Building dependency tree... Done\n",
      "Reading state information... 0% Reading state information... 0%Reading state information... Done\n",
      "The following additional packages will be installed:\n",
      "  docker-ce-rootless-extras libslirp0 pigz slirp4netns\n",
      "Suggested packages:\n",
      "  aufs-tools cgroupfs-mount | cgroup-lite\n",
      "The following NEW packages will be installed:\n",
      "  containerd.io docker-buildx-plugin docker-ce docker-ce-cli\n",
      "  docker-ce-rootless-extras docker-compose-plugin libslirp0 pigz slirp4netns\n",
      "0 upgraded, 9 newly installed, 0 to remove and 4 not upgraded.\n",
      "Need to get 114 MB of archives.\n",
      "After this operation, 414 MB of additional disk space will be used.\n",
      "Get:1 https://download.docker.com/linux/ubuntu jammy/stable amd64 containerd.io amd64 1.6.22-1 [28,3 MB]\n",
      "Get:2 http://be.archive.ubuntu.com/ubuntu jammy/universe amd64 pigz amd64 2.6-1 [63,6 kB]\n",
      "Get:3 http://be.archive.ubuntu.com/ubuntu jammy/main amd64 libslirp0 amd64 4.6.1-1build1 [61,5 kB]\n",
      "Get:4 http://be.archive.ubuntu.com/ubuntu jammy/universe amd64 slirp4netns amd64 1.0.1-2 [28,2 kB]\n",
      "Get:5 https://download.docker.com/linux/ubuntu jammy/stable amd64 docker-buildx-plugin amd64 0.11.2-1~ubuntu.22.04~jammy [28,2 MB]\n",
      "Get:6 https://download.docker.com/linux/ubuntu jammy/stable amd64 docker-ce-cli amd64 5:24.0.5-1~ubuntu.22.04~jammy [13,3 MB]\n",
      "Get:7 https://download.docker.com/linux/ubuntu jammy/stable amd64 docker-ce amd64 5:24.0.5-1~ubuntu.22.04~jammy [22,9 MB]\n",
      "Get:8 https://download.docker.com/linux/ubuntu jammy/stable amd64 docker-ce-rootless-extras amd64 5:24.0.5-1~ubuntu.22.04~jammy [9.032 kB]\n",
      "Get:9 https://download.docker.com/linux/ubuntu jammy/stable amd64 docker-compose-plugin amd64 2.20.2-1~ubuntu.22.04~jammy [11,9 MB]\n",
      "Fetched 114 MB in 39s (2.940 kB/s)                                             \n",
      "Selecting previously unselected package pigz.\n",
      "(Reading database ... 158361 files and directories currently installed.)\n",
      "Preparing to unpack .../0-pigz_2.6-1_amd64.deb ...\n",
      "Unpacking pigz (2.6-1) ...\n",
      "Selecting previously unselected package containerd.io.\n",
      "Preparing to unpack .../1-containerd.io_1.6.22-1_amd64.deb ...\n",
      "Unpacking containerd.io (1.6.22-1) ...\n",
      "Selecting previously unselected package docker-buildx-plugin.\n",
      "Preparing to unpack .../2-docker-buildx-plugin_0.11.2-1~ubuntu.22.04~jammy_amd64.deb ...\n",
      "Unpacking docker-buildx-plugin (0.11.2-1~ubuntu.22.04~jammy) ...\n",
      "Selecting previously unselected package docker-ce-cli.\n",
      "Preparing to unpack .../3-docker-ce-cli_5%3a24.0.5-1~ubuntu.22.04~jammy_amd64.deb ...\n",
      "Unpacking docker-ce-cli (5:24.0.5-1~ubuntu.22.04~jammy) ...\n",
      "Selecting previously unselected package docker-ce.\n",
      "Preparing to unpack .../4-docker-ce_5%3a24.0.5-1~ubuntu.22.04~jammy_amd64.deb ...\n",
      "Unpacking docker-ce (5:24.0.5-1~ubuntu.22.04~jammy) ...\n",
      "Selecting previously unselected package docker-ce-rootless-extras.\n",
      "Preparing to unpack .../5-docker-ce-rootless-extras_5%3a24.0.5-1~ubuntu.22.04~jammy_amd64.deb ...\n",
      "Unpacking docker-ce-rootless-extras (5:24.0.5-1~ubuntu.22.04~jammy) ...\n",
      "Selecting previously unselected package docker-compose-plugin.\n",
      "Preparing to unpack .../6-docker-compose-plugin_2.20.2-1~ubuntu.22.04~jammy_amd64.deb ...\n",
      "Unpacking docker-compose-plugin (2.20.2-1~ubuntu.22.04~jammy) ...\n",
      "Selecting previously unselected package libslirp0:amd64.\n",
      "Preparing to unpack .../7-libslirp0_4.6.1-1build1_amd64.deb ...\n",
      "Unpacking libslirp0:amd64 (4.6.1-1build1) ...\n",
      "Selecting previously unselected package slirp4netns.\n",
      "Preparing to unpack .../8-slirp4netns_1.0.1-2_amd64.deb ...\n",
      "Unpacking slirp4netns (1.0.1-2) ...\n",
      "Setting up docker-buildx-plugin (0.11.2-1~ubuntu.22.04~jammy) ...\n",
      "Setting up containerd.io (1.6.22-1) ...\n",
      "Created symlink /etc/systemd/system/multi-user.target.wants/containerd.service → /lib/systemd/system/containerd.service.\n",
      "Setting up docker-compose-plugin (2.20.2-1~ubuntu.22.04~jammy) ...\n",
      "Setting up docker-ce-cli (5:24.0.5-1~ubuntu.22.04~jammy) ...\n",
      "Setting up libslirp0:amd64 (4.6.1-1build1) ...\n",
      "Setting up pigz (2.6-1) ...\n",
      "Setting up docker-ce-rootless-extras (5:24.0.5-1~ubuntu.22.04~jammy) ...\n",
      "Setting up slirp4netns (1.0.1-2) ...\n",
      "Setting up docker-ce (5:24.0.5-1~ubuntu.22.04~jammy) ...\n",
      "Created symlink /etc/systemd/system/multi-user.target.wants/docker.service → /lib/systemd/system/docker.service.\n",
      "Created symlink /etc/systemd/system/sockets.target.wants/docker.socket → /lib/systemd/system/docker.socket.\n",
      "Processing triggers for man-db (2.10.2-1) ...\n",
      "Processing triggers for libc-bin (2.35-0ubuntu3.1) ...\n"
     ]
    }
   ],
   "source": [
    "sudo apt-get install -y docker-ce docker-ce-cli containerd.io docker-buildx-plugin docker-compose-plugin"
   ]
  },
  {
   "cell_type": "code",
   "execution_count": 10,
   "id": "18f22b85-99b6-4e80-84ad-86092c70ce64",
   "metadata": {},
   "outputs": [
    {
     "name": "stdout",
     "output_type": "stream",
     "text": [
      "Unable to find image 'hello-world:latest' locally\n",
      "latest: Pulling from library/hello-world\n",
      "\n",
      "\u001b[1BDigest: sha256:dcba6daec718f547568c562956fa47e1b03673dd010fe6ee58ca806767031d1c\n",
      "Status: Downloaded newer image for hello-world:latest\n",
      "\n",
      "Hello from Docker!\n",
      "This message shows that your installation appears to be working correctly.\n",
      "\n",
      "To generate this message, Docker took the following steps:\n",
      " 1. The Docker client contacted the Docker daemon.\n",
      " 2. The Docker daemon pulled the \"hello-world\" image from the Docker Hub.\n",
      "    (amd64)\n",
      " 3. The Docker daemon created a new container from that image which runs the\n",
      "    executable that produces the output you are currently reading.\n",
      " 4. The Docker daemon streamed that output to the Docker client, which sent it\n",
      "    to your terminal.\n",
      "\n",
      "To try something more ambitious, you can run an Ubuntu container with:\n",
      " $ docker run -it ubuntu bash\n",
      "\n",
      "Share images, automate workflows, and more with a free Docker ID:\n",
      " https://hub.docker.com/\n",
      "\n",
      "For more examples and ideas, visit:\n",
      " https://docs.docker.com/get-started/\n",
      "\n"
     ]
    }
   ],
   "source": [
    "sudo docker run hello-world"
   ]
  },
  {
   "cell_type": "code",
   "execution_count": 13,
   "id": "e1938472-6987-412e-8ba8-ca1da60b888b",
   "metadata": {},
   "outputs": [],
   "source": [
    "sudo usermod -aG docker $USER"
   ]
  },
  {
   "cell_type": "markdown",
   "id": "3706d72b-c59d-4b0f-9588-28de0fcbd6dc",
   "metadata": {},
   "source": [
    "*NB*: restart jupyter from a fresh shell session to apply"
   ]
  },
  {
   "cell_type": "markdown",
   "id": "23d8ac5a-0dc6-4a3f-bbfd-7ecfad64fac8",
   "metadata": {},
   "source": [
    "## Moby"
   ]
  },
  {
   "cell_type": "code",
   "execution_count": 46,
   "id": "7c84b09a-37ed-4196-9689-85f6867aa778",
   "metadata": {},
   "outputs": [],
   "source": [
    "WD=$(mktemp -d)"
   ]
  },
  {
   "cell_type": "markdown",
   "id": "14821541-f8e8-4ccc-a0bb-048b65aecff7",
   "metadata": {},
   "source": [
    "### fetch source code"
   ]
  },
  {
   "cell_type": "code",
   "execution_count": null,
   "id": "7fc7a3c3-8f60-41d7-888b-6be02f497f1d",
   "metadata": {},
   "outputs": [],
   "source": [
    "#mkdir -p $GOPATH/src/github.com/moby\n",
    "#cd $GOPATH/src/github.com/moby\n",
    "#[ -d moby ] ||\n",
    "git clone https://github.com/moby/moby.git"
   ]
  },
  {
   "cell_type": "code",
   "execution_count": 18,
   "id": "6e4f67e5-3e9b-4b08-8efb-53297dd6f72f",
   "metadata": {},
   "outputs": [],
   "source": [
    "cd moby"
   ]
  },
  {
   "cell_type": "markdown",
   "id": "a6379a23-4113-47bb-b9bd-cb7e89f3e4c2",
   "metadata": {},
   "source": [
    "### install dependencies"
   ]
  },
  {
   "cell_type": "code",
   "execution_count": null,
   "id": "3dd61477-845b-42af-90bd-0d43ceada236",
   "metadata": {},
   "outputs": [],
   "source": [
    "sudo snap install go --classic\n",
    "go get -d ./...\n",
    "go install github.com/LK4D4/vndr@latest"
   ]
  },
  {
   "cell_type": "markdown",
   "id": "fad401df-e3bc-43c7-8f0b-e6650bdb2c1f",
   "metadata": {},
   "source": [
    "*NB*: vndr executable should end up in $PATH for instance in ~/.local/bin"
   ]
  },
  {
   "cell_type": "markdown",
   "id": "622af6f7-1b39-425f-8226-6f17e902653e",
   "metadata": {},
   "source": [
    "### test unmodified code"
   ]
  },
  {
   "cell_type": "code",
   "execution_count": null,
   "id": "4c25b95b-6875-485f-b9b6-62ebec7f19d9",
   "metadata": {},
   "outputs": [],
   "source": [
    "make binary"
   ]
  },
  {
   "cell_type": "code",
   "execution_count": null,
   "id": "54e2e7dc-cccf-4a4d-9ccd-2998f1b3c0d6",
   "metadata": {},
   "outputs": [],
   "source": [
    "make test"
   ]
  },
  {
   "cell_type": "code",
   "execution_count": null,
   "id": "f3e34898-a649-439a-a9e8-4832abbfcb21",
   "metadata": {},
   "outputs": [],
   "source": [
    "TESTDIRS=./container/stream make test-unit"
   ]
  },
  {
   "cell_type": "markdown",
   "id": "6f7e9d80-4ac8-43f9-bfc1-3a47a9968b27",
   "metadata": {},
   "source": [
    "### patch and test"
   ]
  },
  {
   "cell_type": "code",
   "execution_count": null,
   "id": "80200c32-a5e6-4d35-9634-08d54a597c51",
   "metadata": {},
   "outputs": [],
   "source": []
  },
  {
   "cell_type": "code",
   "execution_count": null,
   "id": "3e3bec55-2c2a-4237-8d49-ec757da09045",
   "metadata": {},
   "outputs": [],
   "source": [
    "TEST_SKIP_INTEGRATION_CLI=1 make test-integration TESTFLAGS=\"-test.run TestExecBlackIsWhite\""
   ]
  },
  {
   "cell_type": "markdown",
   "id": "ecff0099-c131-4cd8-90e6-96ebb5a1315d",
   "metadata": {},
   "source": [
    "The command above takes a long time to run. Also, it runs tests from various directories and you do no necessarily see if your tests has failed.\n",
    "\n",
    "```\n",
    "...\n",
    "Running /go/src/github.com/docker/docker/integration/container (amd64.integration.container) flags=-test.v -test.timeout=5m -test.run TestExecBlackIsWhite \n",
    "INFO: Testing against a local daemon\n",
    "=== RUN   TestExecBlackIsWhite\n",
    "--- PASS: TestExecBlackIsWhite (0.65s)\n",
    "PASS\n",
    "\n",
    "DONE 1 tests in 0.677s\n",
    "...\n",
    "```\n",
    "\n",
    "To quickly run our test only:\n",
    "\n",
    "```\n",
    "$ make BIND_DIR=. shell\n",
    "# ./bundles/dynbinary-daemon/dockerd &\n",
    "# go test -v ./integration/container -run TestExecBlackIsWhite\n",
    "Loaded image: busybox:latest\n",
    "Loaded image: busybox:glibc\n",
    "Loaded image: debian:bullseye-slim\n",
    "Loaded image: hello-world:latest\n",
    "Loaded image: arm32v7/hello-world:latest\n",
    "INFO: Testing against a local daemon\n",
    "=== RUN   TestExecBlackIsWhite\n",
    "time=\"2023-08-27T18:21:36.197724895Z\" level=info msg=\"loading plugin \\\"io.containerd.internal.v1.shutdown\\\"...\" runtime=io.containerd.runc.v2 type=io.containerd.internal.v1\n",
    "time=\"2023-08-27T18:21:36.197773274Z\" level=info msg=\"loading plugin \\\"io.containerd.ttrpc.v1.pause\\\"...\" runtime=io.containerd.runc.v2 type=io.containerd.ttrpc.v1\n",
    "time=\"2023-08-27T18:21:36.197785044Z\" level=info msg=\"loading plugin \\\"io.containerd.event.v1.publisher\\\"...\" runtime=io.containerd.runc.v2 type=io.containerd.event.v1\n",
    "time=\"2023-08-27T18:21:36.197792335Z\" level=info msg=\"loading plugin \\\"io.containerd.ttrpc.v1.task\\\"...\" runtime=io.containerd.runc.v2 type=io.containerd.ttrpc.v1\n",
    "INFO[2023-08-27T18:21:36.498614412Z] shim disconnected                             id=a2852cf866651e8283a6808fe3058e4c1a35b2d26097a800877cbade99bebf5d namespace=moby\n",
    "WARN[2023-08-27T18:21:36.498685085Z] cleaning up after shim disconnected           id=a2852cf866651e8283a6808fe3058e4c1a35b2d26097a800877cbade99bebf5d namespace=moby\n",
    "INFO[2023-08-27T18:21:36.498752438Z] ignoring event                                container=a2852cf866651e8283a6808fe3058e4c1a35b2d26097a800877cbade99bebf5d module=libcontainerd namespace=moby topic=/tasks/delete type=\"*events.TaskDelete\"\n",
    "INFO[2023-08-27T18:21:36.498787843Z] cleaning up dead shim                         namespace=moby\n",
    "--- PASS: TestExecBlackIsWhite (0.69s)\n",
    "PASS\n",
    "ok  \tgithub.com/docker/docker/integration/container\t1.919s\n",
    "```"
   ]
  },
  {
   "cell_type": "markdown",
   "id": "32b0184f-f2b4-4bf7-84fb-a7ed89850370",
   "metadata": {},
   "source": [
    "### build and leave moby/"
   ]
  },
  {
   "cell_type": "code",
   "execution_count": null,
   "id": "0b77881d-518c-4d7e-ab39-dd0fbd4b3d2a",
   "metadata": {},
   "outputs": [],
   "source": []
  },
  {
   "cell_type": "code",
   "execution_count": null,
   "id": "b87f4f7d-eac2-4070-9a47-d9e7ad0f381c",
   "metadata": {},
   "outputs": [],
   "source": [
    "make binary\n",
    "cd .."
   ]
  },
  {
   "cell_type": "markdown",
   "id": "ac3c0324-92d1-484f-aef5-525ad3820b3e",
   "metadata": {},
   "source": [
    "## Build patched docker:dind image"
   ]
  },
  {
   "cell_type": "markdown",
   "id": "e41111a3-9cc9-4dff-be84-929224d17cc0",
   "metadata": {},
   "source": [
    "#### build"
   ]
  },
  {
   "cell_type": "code",
   "execution_count": 48,
   "id": "de6e23f0-0e1a-496c-b350-2acf94385c0f",
   "metadata": {},
   "outputs": [],
   "source": [
    "cp moby/bundles/binary/dockerd $WD/\n",
    "\n",
    "cat << END > $WD/Dockerfile.dind-black-is-white\n",
    "# Use the official docker:dind as a base\n",
    "FROM docker:dind\n",
    "\n",
    "COPY ./dockerd /usr/local/bin/dockerd\n",
    "END"
   ]
  },
  {
   "cell_type": "code",
   "execution_count": 51,
   "id": "f7194b35-fab4-4b4c-b555-e9fba2db44d1",
   "metadata": {
    "scrolled": true
   },
   "outputs": [
    {
     "name": "stdout",
     "output_type": "stream",
     "text": [
      "\u001b[1A\u001b[1B\u001b[0G\u001b[?25l[+] Building 0.0s (0/1)                                          docker:default\n",
      "\u001b[?25h\u001b[1A\u001b[0G\u001b[?25l[+] Building 0.2s (7/7)                                          docker:default\n",
      "\u001b[34m => [internal] load build definition from Dockerfile.dind-black-is-white   0.0s\n",
      "\u001b[0m\u001b[34m => => transferring dockerfile: 154B                                       0.0s\n",
      "\u001b[0m\u001b[34m => [internal] load .dockerignore                                          0.0s\n",
      "\u001b[0m\u001b[34m => => transferring context: 2B                                            0.0s\n",
      "\u001b[0m\u001b[34m => [internal] load metadata for docker.io/library/docker:dind             0.0s\n",
      "\u001b[0m\u001b[34m => [internal] load build context                                          0.0s\n",
      "\u001b[0m\u001b[34m => => transferring context: 31B                                           0.0s\n",
      "\u001b[0m\u001b[34m => [1/2] FROM docker.io/library/docker:dind                               0.0s\n",
      "\u001b[0m\u001b[34m => CACHED [2/2] COPY ./dockerd /usr/local/bin/dockerd                     0.0s\n",
      "\u001b[0m\u001b[34m => exporting to image                                                     0.0s\n",
      "\u001b[0m\u001b[34m => => exporting layers                                                    0.0s\n",
      "\u001b[0m\u001b[34m => => writing image sha256:155d3942e05d0e591e4cc57259593411039c413fd2032  0.0s\n",
      "\u001b[0m\u001b[34m => => naming to docker.io/library/dind-black-is-white:dind                0.0s\n",
      "\u001b[0m\u001b[?25h\u001b[1A\u001b[1A\u001b[1A\u001b[1A\u001b[1A\u001b[1A\u001b[1A\u001b[1A\u001b[1A\u001b[1A\u001b[1A\u001b[1A\u001b[1A\u001b[1A\u001b[0G\u001b[?25l[+] Building 0.2s (7/7) FINISHED                                 docker:default\n",
      "\u001b[34m => [internal] load build definition from Dockerfile.dind-black-is-white   0.0s\n",
      "\u001b[0m\u001b[34m => => transferring dockerfile: 154B                                       0.0s\n",
      "\u001b[0m\u001b[34m => [internal] load .dockerignore                                          0.0s\n",
      "\u001b[0m\u001b[34m => => transferring context: 2B                                            0.0s\n",
      "\u001b[0m\u001b[34m => [internal] load metadata for docker.io/library/docker:dind             0.0s\n",
      "\u001b[0m\u001b[34m => [internal] load build context                                          0.0s\n",
      "\u001b[0m\u001b[34m => => transferring context: 31B                                           0.0s\n",
      "\u001b[0m\u001b[34m => [1/2] FROM docker.io/library/docker:dind                               0.0s\n",
      "\u001b[0m\u001b[34m => CACHED [2/2] COPY ./dockerd /usr/local/bin/dockerd                     0.0s\n",
      "\u001b[0m\u001b[34m => exporting to image                                                     0.0s\n",
      "\u001b[0m\u001b[34m => => exporting layers                                                    0.0s\n",
      "\u001b[0m\u001b[34m => => writing image sha256:155d3942e05d0e591e4cc57259593411039c413fd2032  0.0s\n",
      "\u001b[0m\u001b[34m => => naming to docker.io/library/dind-black-is-white:dind                0.0s\n",
      "\u001b[0m\u001b[?25h\n"
     ]
    }
   ],
   "source": [
    "docker build -t dind-black-is-white:dind -f $WD/Dockerfile.dind-black-is-white $WD"
   ]
  },
  {
   "cell_type": "code",
   "execution_count": null,
   "id": "c4bc07f3-506e-4746-9632-1d86065d028d",
   "metadata": {},
   "outputs": [],
   "source": []
  },
  {
   "cell_type": "code",
   "execution_count": 52,
   "id": "81c9cdf4-6a20-4a09-8558-b87f1ab7af53",
   "metadata": {},
   "outputs": [
    {
     "name": "stdout",
     "output_type": "stream",
     "text": [
      "Error response from daemon: Cannot kill container: dind-black-is-white: No such container: dind-black-is-white\n",
      "df3d8a8ee2a9dc16fcd8b4ec0f3a87c839caf674a14633eb6095be53c4b2979e\n"
     ]
    }
   ],
   "source": [
    "docker kill dind-black-is-white\n",
    "docker run --rm --name dind-black-is-white -d --privileged -it dind-black-is-white:dind"
   ]
  },
  {
   "cell_type": "code",
   "execution_count": 53,
   "id": "a8538c83-1ad3-4f2c-9339-b0553587d165",
   "metadata": {},
   "outputs": [
    {
     "name": "stdout",
     "output_type": "stream",
     "text": [
      "Docker version 24.0.5, build ced0996\n"
     ]
    }
   ],
   "source": [
    "docker exec -it dind-black-is-white \\\n",
    "    docker --version"
   ]
  },
  {
   "cell_type": "code",
   "execution_count": 54,
   "id": "f9cfd979-33eb-441a-b061-d7f20c5bec0e",
   "metadata": {},
   "outputs": [
    {
     "name": "stdout",
     "output_type": "stream",
     "text": [
      "{white}\n"
     ]
    }
   ],
   "source": [
    "docker exec -it docker-black-is-white \\\n",
    "    docker run busybox echo \"{black}\""
   ]
  },
  {
   "cell_type": "code",
   "execution_count": null,
   "id": "ee208560-f1c5-432e-89c9-e62376aa90f0",
   "metadata": {},
   "outputs": [],
   "source": []
  }
 ],
 "metadata": {
  "kernelspec": {
   "display_name": "Bash",
   "language": "bash",
   "name": "bash"
  },
  "language_info": {
   "codemirror_mode": "shell",
   "file_extension": ".sh",
   "mimetype": "text/x-sh",
   "name": "bash"
  }
 },
 "nbformat": 4,
 "nbformat_minor": 5
}
